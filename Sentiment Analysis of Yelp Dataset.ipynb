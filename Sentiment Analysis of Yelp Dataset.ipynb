{
 "cells": [
  {
   "cell_type": "markdown",
   "metadata": {},
   "source": [
    "# <u> Sentiment Analysis of Yelp Reviews Dataset </u>\n",
    "\n",
    "* Mishita Agarwal"
   ]
  },
  {
   "cell_type": "code",
   "execution_count": 1,
   "metadata": {},
   "outputs": [],
   "source": [
    "import pandas as pd\n",
    "import numpy as np\n",
    "import matplotlib.pyplot as plt\n",
    "import seaborn as sns"
   ]
  },
  {
   "cell_type": "markdown",
   "metadata": {},
   "source": [
    "# <u> Data Set Description </u>"
   ]
  },
  {
   "cell_type": "markdown",
   "metadata": {},
   "source": [
    "\n",
    "The yelp_review.csv dataset contains the following columns.  "
   ]
  },
  {
   "cell_type": "markdown",
   "metadata": {},
   "source": [
    "<ul>\n",
    "<li><b>review_id</b>: Every review has a review id\n",
    "<li><b>user_id</b>: User posts the reviews and have their own unique user id.\n",
    "<li><b>business_id</b>: The business id is the unique identifier of the the type of business(restaurants, etc).\n",
    "<li><b>stars</b>: Star rating given by the user for the services or products. \n",
    "<li><b>date</b>: The date when the review is posted\n",
    "<li><b>text</b>: Texts are the reviews posted by the user[the main column for sentiment analysis.]\n",
    "<li><b>useful,funny,cool</b>: Any user can give \"thumbsup\" to any review if he/she founds that review cool, funny or useful. Intended for declaring the review of the day. \n",
    "</ul>"
   ]
  },
  {
   "cell_type": "markdown",
   "metadata": {},
   "source": [
    "Important columns in yelp_business.csv column"
   ]
  },
  {
   "cell_type": "markdown",
   "metadata": {},
   "source": [
    "<ul>\n",
    "<li><b>name</b>: Store/shop or business name.\n",
    "<li><b>review_count</b>: The total review counts for each store.\n",
    "<li><b>stars</b>: float ratings of orignal stars rounded to half points. Not given by the users.\n",
    "<li><b>categories</b>: The type of business. \n",
    "\n",
    "</ul>"
   ]
  },
  {
   "cell_type": "code",
   "execution_count": 2,
   "metadata": {},
   "outputs": [],
   "source": [
    "'''The orignal csv file is very large and takes a long time to run everytime, so I sampled the orignal file and saved the state\n",
    "of sampled file using pickle package of python to get the saved state everytime. You can run the orignal file, if required.'''\n",
    "#reviews = pd.read_csv(\"yelp_review.csv\")"
   ]
  },
  {
   "cell_type": "code",
   "execution_count": null,
   "metadata": {},
   "outputs": [],
   "source": [
    "# The random sampling of reviews dataset. \n",
    "#reviews = reviews.sample(frac = 0.1)"
   ]
  },
  {
   "cell_type": "code",
   "execution_count": 6,
   "metadata": {},
   "outputs": [],
   "source": [
    "# Dumped the sampled file using pickle. \n",
    "import pickle \n",
    "# pickle.dump(reviews, open( \"sampled_reviews.p\", \"wb\" ))\n"
   ]
  },
  {
   "cell_type": "code",
   "execution_count": 7,
   "metadata": {},
   "outputs": [],
   "source": [
    "reviews = pickle.load( open( \"sampled_reviews.p\", \"rb\" ) )"
   ]
  },
  {
   "cell_type": "code",
   "execution_count": 8,
   "metadata": {},
   "outputs": [
    {
     "data": {
      "text/html": [
       "<div>\n",
       "<style scoped>\n",
       "    .dataframe tbody tr th:only-of-type {\n",
       "        vertical-align: middle;\n",
       "    }\n",
       "\n",
       "    .dataframe tbody tr th {\n",
       "        vertical-align: top;\n",
       "    }\n",
       "\n",
       "    .dataframe thead th {\n",
       "        text-align: right;\n",
       "    }\n",
       "</style>\n",
       "<table border=\"1\" class=\"dataframe\">\n",
       "  <thead>\n",
       "    <tr style=\"text-align: right;\">\n",
       "      <th></th>\n",
       "      <th>review_id</th>\n",
       "      <th>user_id</th>\n",
       "      <th>business_id</th>\n",
       "      <th>stars</th>\n",
       "      <th>date</th>\n",
       "      <th>text</th>\n",
       "      <th>useful</th>\n",
       "      <th>funny</th>\n",
       "      <th>cool</th>\n",
       "    </tr>\n",
       "  </thead>\n",
       "  <tbody>\n",
       "    <tr>\n",
       "      <th>331045</th>\n",
       "      <td>lfUu9sUtxC9xnc3QNGVdAQ</td>\n",
       "      <td>R6vb0FtmClhfwajs_AuusQ</td>\n",
       "      <td>VBJwRxOAtvjy7taLXEjmfg</td>\n",
       "      <td>3</td>\n",
       "      <td>2017-08-27</td>\n",
       "      <td>If you are a fan of FRIED PICKLES this is the ...</td>\n",
       "      <td>0</td>\n",
       "      <td>0</td>\n",
       "      <td>0</td>\n",
       "    </tr>\n",
       "    <tr>\n",
       "      <th>3200099</th>\n",
       "      <td>rmV9bYF9d0tm9kCJs1kZlg</td>\n",
       "      <td>RZSdmC1g3Sb6J4MSbjKjuA</td>\n",
       "      <td>4JNXUYY8wbaaDmk3BPzlWw</td>\n",
       "      <td>2</td>\n",
       "      <td>2014-08-08</td>\n",
       "      <td>I don't get the hype on this place. The servic...</td>\n",
       "      <td>0</td>\n",
       "      <td>3</td>\n",
       "      <td>0</td>\n",
       "    </tr>\n",
       "    <tr>\n",
       "      <th>2891782</th>\n",
       "      <td>-aEpIZchSGQz1fpjmeQJPw</td>\n",
       "      <td>kzaWUwXdTSPOBKK7qtFZpQ</td>\n",
       "      <td>S37sKRRfkhFZRpxaYzWo_A</td>\n",
       "      <td>4</td>\n",
       "      <td>2014-08-11</td>\n",
       "      <td>I was intrigued by the reviews that indicated ...</td>\n",
       "      <td>0</td>\n",
       "      <td>1</td>\n",
       "      <td>1</td>\n",
       "    </tr>\n",
       "    <tr>\n",
       "      <th>3081119</th>\n",
       "      <td>7PmSfe22XnkGBBF1PMuWwA</td>\n",
       "      <td>qLkvFGPomqF4qbWlT1IKqw</td>\n",
       "      <td>JLbgvGM4FXh9zNP4O5ZWjQ</td>\n",
       "      <td>5</td>\n",
       "      <td>2017-05-26</td>\n",
       "      <td>We went to celebrate my son's 13th birthday. M...</td>\n",
       "      <td>0</td>\n",
       "      <td>0</td>\n",
       "      <td>0</td>\n",
       "    </tr>\n",
       "    <tr>\n",
       "      <th>4487231</th>\n",
       "      <td>jvJJPv-QCwOwNZdp-6uzjA</td>\n",
       "      <td>wr8HTsnRoelIwUg9k3Owug</td>\n",
       "      <td>1-L3RfFTq4tA0kl73K1l0g</td>\n",
       "      <td>5</td>\n",
       "      <td>2017-12-07</td>\n",
       "      <td>I had the chicken tortilla soup and my partner...</td>\n",
       "      <td>0</td>\n",
       "      <td>0</td>\n",
       "      <td>0</td>\n",
       "    </tr>\n",
       "  </tbody>\n",
       "</table>\n",
       "</div>"
      ],
      "text/plain": [
       "                      review_id                 user_id  \\\n",
       "331045   lfUu9sUtxC9xnc3QNGVdAQ  R6vb0FtmClhfwajs_AuusQ   \n",
       "3200099  rmV9bYF9d0tm9kCJs1kZlg  RZSdmC1g3Sb6J4MSbjKjuA   \n",
       "2891782  -aEpIZchSGQz1fpjmeQJPw  kzaWUwXdTSPOBKK7qtFZpQ   \n",
       "3081119  7PmSfe22XnkGBBF1PMuWwA  qLkvFGPomqF4qbWlT1IKqw   \n",
       "4487231  jvJJPv-QCwOwNZdp-6uzjA  wr8HTsnRoelIwUg9k3Owug   \n",
       "\n",
       "                    business_id  stars        date  \\\n",
       "331045   VBJwRxOAtvjy7taLXEjmfg      3  2017-08-27   \n",
       "3200099  4JNXUYY8wbaaDmk3BPzlWw      2  2014-08-08   \n",
       "2891782  S37sKRRfkhFZRpxaYzWo_A      4  2014-08-11   \n",
       "3081119  JLbgvGM4FXh9zNP4O5ZWjQ      5  2017-05-26   \n",
       "4487231  1-L3RfFTq4tA0kl73K1l0g      5  2017-12-07   \n",
       "\n",
       "                                                      text  useful  funny  \\\n",
       "331045   If you are a fan of FRIED PICKLES this is the ...       0      0   \n",
       "3200099  I don't get the hype on this place. The servic...       0      3   \n",
       "2891782  I was intrigued by the reviews that indicated ...       0      1   \n",
       "3081119  We went to celebrate my son's 13th birthday. M...       0      0   \n",
       "4487231  I had the chicken tortilla soup and my partner...       0      0   \n",
       "\n",
       "         cool  \n",
       "331045      0  \n",
       "3200099     0  \n",
       "2891782     1  \n",
       "3081119     0  \n",
       "4487231     0  "
      ]
     },
     "execution_count": 8,
     "metadata": {},
     "output_type": "execute_result"
    }
   ],
   "source": [
    "reviews.head()"
   ]
  },
  {
   "cell_type": "code",
   "execution_count": 9,
   "metadata": {},
   "outputs": [],
   "source": [
    "business = pd.read_csv(\"yelp_business.csv\")"
   ]
  },
  {
   "cell_type": "code",
   "execution_count": 12,
   "metadata": {},
   "outputs": [
    {
     "data": {
      "text/html": [
       "<div>\n",
       "<style scoped>\n",
       "    .dataframe tbody tr th:only-of-type {\n",
       "        vertical-align: middle;\n",
       "    }\n",
       "\n",
       "    .dataframe tbody tr th {\n",
       "        vertical-align: top;\n",
       "    }\n",
       "\n",
       "    .dataframe thead th {\n",
       "        text-align: right;\n",
       "    }\n",
       "</style>\n",
       "<table border=\"1\" class=\"dataframe\">\n",
       "  <thead>\n",
       "    <tr style=\"text-align: right;\">\n",
       "      <th></th>\n",
       "      <th>business_id</th>\n",
       "      <th>name</th>\n",
       "      <th>neighborhood</th>\n",
       "      <th>address</th>\n",
       "      <th>city</th>\n",
       "      <th>state</th>\n",
       "      <th>postal_code</th>\n",
       "      <th>latitude</th>\n",
       "      <th>longitude</th>\n",
       "      <th>stars</th>\n",
       "      <th>review_count</th>\n",
       "      <th>is_open</th>\n",
       "      <th>categories</th>\n",
       "    </tr>\n",
       "  </thead>\n",
       "  <tbody>\n",
       "    <tr>\n",
       "      <th>0</th>\n",
       "      <td>FYWN1wneV18bWNgQjJ2GNg</td>\n",
       "      <td>\"Dental by Design\"</td>\n",
       "      <td>NaN</td>\n",
       "      <td>\"4855 E Warner Rd, Ste B9\"</td>\n",
       "      <td>Ahwatukee</td>\n",
       "      <td>AZ</td>\n",
       "      <td>85044</td>\n",
       "      <td>33.330690</td>\n",
       "      <td>-111.978599</td>\n",
       "      <td>4.0</td>\n",
       "      <td>22</td>\n",
       "      <td>1</td>\n",
       "      <td>Dentists;General Dentistry;Health &amp; Medical;Or...</td>\n",
       "    </tr>\n",
       "    <tr>\n",
       "      <th>1</th>\n",
       "      <td>He-G7vWjzVUysIKrfNbPUQ</td>\n",
       "      <td>\"Stephen Szabo Salon\"</td>\n",
       "      <td>NaN</td>\n",
       "      <td>\"3101 Washington Rd\"</td>\n",
       "      <td>McMurray</td>\n",
       "      <td>PA</td>\n",
       "      <td>15317</td>\n",
       "      <td>40.291685</td>\n",
       "      <td>-80.104900</td>\n",
       "      <td>3.0</td>\n",
       "      <td>11</td>\n",
       "      <td>1</td>\n",
       "      <td>Hair Stylists;Hair Salons;Men's Hair Salons;Bl...</td>\n",
       "    </tr>\n",
       "    <tr>\n",
       "      <th>2</th>\n",
       "      <td>KQPW8lFf1y5BT2MxiSZ3QA</td>\n",
       "      <td>\"Western Motor Vehicle\"</td>\n",
       "      <td>NaN</td>\n",
       "      <td>\"6025 N 27th Ave, Ste 1\"</td>\n",
       "      <td>Phoenix</td>\n",
       "      <td>AZ</td>\n",
       "      <td>85017</td>\n",
       "      <td>33.524903</td>\n",
       "      <td>-112.115310</td>\n",
       "      <td>1.5</td>\n",
       "      <td>18</td>\n",
       "      <td>1</td>\n",
       "      <td>Departments of Motor Vehicles;Public Services ...</td>\n",
       "    </tr>\n",
       "    <tr>\n",
       "      <th>3</th>\n",
       "      <td>8DShNS-LuFqpEWIp0HxijA</td>\n",
       "      <td>\"Sports Authority\"</td>\n",
       "      <td>NaN</td>\n",
       "      <td>\"5000 Arizona Mills Cr, Ste 435\"</td>\n",
       "      <td>Tempe</td>\n",
       "      <td>AZ</td>\n",
       "      <td>85282</td>\n",
       "      <td>33.383147</td>\n",
       "      <td>-111.964725</td>\n",
       "      <td>3.0</td>\n",
       "      <td>9</td>\n",
       "      <td>0</td>\n",
       "      <td>Sporting Goods;Shopping</td>\n",
       "    </tr>\n",
       "    <tr>\n",
       "      <th>4</th>\n",
       "      <td>PfOCPjBrlQAnz__NXj9h_w</td>\n",
       "      <td>\"Brick House Tavern + Tap\"</td>\n",
       "      <td>NaN</td>\n",
       "      <td>\"581 Howe Ave\"</td>\n",
       "      <td>Cuyahoga Falls</td>\n",
       "      <td>OH</td>\n",
       "      <td>44221</td>\n",
       "      <td>41.119535</td>\n",
       "      <td>-81.475690</td>\n",
       "      <td>3.5</td>\n",
       "      <td>116</td>\n",
       "      <td>1</td>\n",
       "      <td>American (New);Nightlife;Bars;Sandwiches;Ameri...</td>\n",
       "    </tr>\n",
       "  </tbody>\n",
       "</table>\n",
       "</div>"
      ],
      "text/plain": [
       "              business_id                        name neighborhood  \\\n",
       "0  FYWN1wneV18bWNgQjJ2GNg          \"Dental by Design\"          NaN   \n",
       "1  He-G7vWjzVUysIKrfNbPUQ       \"Stephen Szabo Salon\"          NaN   \n",
       "2  KQPW8lFf1y5BT2MxiSZ3QA     \"Western Motor Vehicle\"          NaN   \n",
       "3  8DShNS-LuFqpEWIp0HxijA          \"Sports Authority\"          NaN   \n",
       "4  PfOCPjBrlQAnz__NXj9h_w  \"Brick House Tavern + Tap\"          NaN   \n",
       "\n",
       "                            address            city state postal_code  \\\n",
       "0        \"4855 E Warner Rd, Ste B9\"       Ahwatukee    AZ       85044   \n",
       "1              \"3101 Washington Rd\"        McMurray    PA       15317   \n",
       "2          \"6025 N 27th Ave, Ste 1\"         Phoenix    AZ       85017   \n",
       "3  \"5000 Arizona Mills Cr, Ste 435\"           Tempe    AZ       85282   \n",
       "4                    \"581 Howe Ave\"  Cuyahoga Falls    OH       44221   \n",
       "\n",
       "    latitude   longitude  stars  review_count  is_open  \\\n",
       "0  33.330690 -111.978599    4.0            22        1   \n",
       "1  40.291685  -80.104900    3.0            11        1   \n",
       "2  33.524903 -112.115310    1.5            18        1   \n",
       "3  33.383147 -111.964725    3.0             9        0   \n",
       "4  41.119535  -81.475690    3.5           116        1   \n",
       "\n",
       "                                          categories  \n",
       "0  Dentists;General Dentistry;Health & Medical;Or...  \n",
       "1  Hair Stylists;Hair Salons;Men's Hair Salons;Bl...  \n",
       "2  Departments of Motor Vehicles;Public Services ...  \n",
       "3                            Sporting Goods;Shopping  \n",
       "4  American (New);Nightlife;Bars;Sandwiches;Ameri...  "
      ]
     },
     "execution_count": 12,
     "metadata": {},
     "output_type": "execute_result"
    }
   ],
   "source": [
    "business.head()"
   ]
  },
  {
   "cell_type": "markdown",
   "metadata": {},
   "source": [
    "Data Analysis of Business and Review dataset is as follows:"
   ]
  },
  {
   "cell_type": "markdown",
   "metadata": {},
   "source": [
    "# </u> What are top 20 Business Categories? <u/>"
   ]
  },
  {
   "cell_type": "code",
   "execution_count": 13,
   "metadata": {},
   "outputs": [
    {
     "name": "stdout",
     "output_type": "stream",
     "text": [
      "('Maximum number of category', 36)\n",
      "('Median category of business', 3.0)\n"
     ]
    },
    {
     "data": {
      "image/png": "[encoded data removed]",
      "text/plain": [
       "<Figure size 1008x576 with 1 Axes>"
      ]
     },
     "metadata": {},
     "output_type": "display_data"
    }
   ],
   "source": [
    "print('Maximum number of category',business['categories'].str.split(';').str.len().max())\n",
    "print('Median category of business',business['categories'].str.split(';').str.len().median())\n",
    "corpus = ' '.join(business['categories'])\n",
    "\n",
    "corpus = pd.DataFrame(corpus.split(';'),columns=['categories'])\n",
    "cnt = corpus['categories'].value_counts().to_frame()[:20]\n",
    "plt.figure(figsize=(14,8))\n",
    "sns.barplot(cnt['categories'], cnt.index, palette = 'tab20')\n",
    "plt.title('List of top 20 categories');\n",
    "plt.show()"
   ]
  },
  {
   "cell_type": "markdown",
   "metadata": {},
   "source": [
    "# </u> Which year and month has the highest number of reviews ? <u/>"
   ]
  },
  {
   "cell_type": "code",
   "execution_count": 14,
   "metadata": {},
   "outputs": [],
   "source": [
    "reviews['date'] = pd.to_datetime(reviews['date'])\n",
    "reviews['year'] = reviews['date'].dt.year\n",
    "reviews['month'] = reviews['date'].dt.month"
   ]
  },
  {
   "cell_type": "code",
   "execution_count": 15,
   "metadata": {},
   "outputs": [
    {
     "data": {
      "image/png": "[encoded data removed]",
      "text/plain": [
       "<Figure size 1008x432 with 2 Axes>"
      ]
     },
     "metadata": {},
     "output_type": "display_data"
    }
   ],
   "source": [
    "f,ax = plt.subplots(1,2, figsize = (14,6))\n",
    "ax1,ax2 = ax.flatten()\n",
    "cnt = reviews.groupby('year').count()['stars'].to_frame()\n",
    "sns.barplot(cnt.index, cnt['stars'],palette = 'gist_rainbow', ax=ax1)\n",
    "\n",
    "for ticks in ax1.get_xticklabels():\n",
    "    ticks.set_rotation(45)\n",
    "\n",
    "cnt = reviews.groupby('month').count()['stars'].to_frame()\n",
    "sns.barplot(cnt.index, cnt['stars'],palette = 'coolwarm', ax = ax2)\n",
    "plt.title(\"Number of star ratings by year\")\n",
    "plt.show()"
   ]
  },
  {
   "cell_type": "markdown",
   "metadata": {},
   "source": [
    "# </u> What is the distribution of star ratings in the Restaurant category(the top category)?  <u/>"
   ]
  },
  {
   "cell_type": "code",
   "execution_count": 17,
   "metadata": {},
   "outputs": [
    {
     "data": {
      "image/png": "[encoded data removed]",
      "text/plain": [
       "<Figure size 864x288 with 1 Axes>"
      ]
     },
     "metadata": {},
     "output_type": "display_data"
    }
   ],
   "source": [
    "innJoinResult = reviews.merge(business, left_on = 'business_id', right_on='business_id')\n",
    "corpus = ' '.join(innJoinResult['categories'])\n",
    "corpus = pd.DataFrame(corpus.split(';'),columns=['categories'])\n",
    "innJoinResult['categories']= corpus['categories']\n",
    "grp_innerjoin = innJoinResult[innJoinResult.categories == 'Restaurants'].groupby('stars_x').count()['review_count']\n",
    "plt.figure(figsize=(12,4))\n",
    "cnt = innJoinResult[innJoinResult.categories == 'Restaurants'].groupby('stars_x').count()['review_count'].to_frame()\n",
    "ax = sns.barplot(cnt.index,cnt['review_count'] , palette = 'deep')\n",
    "ax.set_xlabel('')\n",
    "plt.title('Stars')\n",
    "plt.show()"
   ]
  },
  {
   "cell_type": "markdown",
   "metadata": {},
   "source": [
    "Percentage distribution of ratings through a pie-chart representation"
   ]
  },
  {
   "cell_type": "code",
   "execution_count": 18,
   "metadata": {},
   "outputs": [
    {
     "data": {
      "image/png": "[encoded data removed]",
      "text/plain": [
       "<Figure size 432x288 with 1 Axes>"
      ]
     },
     "metadata": {},
     "output_type": "display_data"
    }
   ],
   "source": [
    "labels = '1', '2', '3', '4','5'\n",
    "sizes = [73419, 43917, 61757, 122549, 224525]\n",
    "colors = ['gold', 'yellowgreen', 'lightcoral', 'lightskyblue', 'purple']\n",
    "explode = (0.1, 0, 0, 0,0)  # explode 1st slice\n",
    " \n",
    "# Plot\n",
    "plt.pie(sizes, explode=explode, labels=labels, colors=colors,\n",
    "        autopct='%1.1f%%', shadow=True, startangle=140)\n",
    " \n",
    "plt.axis('equal')\n",
    "plt.title(\"Distribution of star ratings in Restaurants\")\n",
    "\n",
    "plt.show()"
   ]
  },
  {
   "cell_type": "markdown",
   "metadata": {},
   "source": [
    "#### </u> Process to train the model is as follows:  <u/>"
   ]
  },
  {
   "cell_type": "code",
   "execution_count": 25,
   "metadata": {},
   "outputs": [],
   "source": [
    "# I have converted the star rating into review sentiment(positive or negative for sentiment analysis.) \n",
    "# Star rating 1,2,3 is binned into neg and rating 4,5 binned into pos. \n",
    "reviews['review_sentiment'] = np.nan\n",
    "reviews.loc[(reviews['stars'] >=1) & (reviews['stars'] <4), 'review_sentiment'] = 'neg'\n",
    "reviews.loc[(reviews['stars'] >=4) & (reviews['stars'] <6), 'review_sentiment'] = 'pos'"
   ]
  },
  {
   "cell_type": "code",
   "execution_count": 37,
   "metadata": {},
   "outputs": [],
   "source": [
    "'''Creating the dependent and independent columns. X is an indenpendent variable and y is a dependent variable, I will use only\n",
    "\"review sentiment\" as a dependent variable for fitting into the model. Attribute \"stars\" is added because as per the feedback, \n",
    "you preferred to also see the distribution of ratings correctly classified or misclassified as positive or negative. This \"star\" is\n",
    "not used for fitting into model.'''\n",
    "\n",
    "X = reviews['text']\n",
    "\n",
    "y = reviews[['review_sentiment', 'stars']]\n"
   ]
  },
  {
   "cell_type": "code",
   "execution_count": 38,
   "metadata": {},
   "outputs": [],
   "source": [
    "''' This function is written to preprocess the text, the function will perform the following tasks:\n",
    "    1. Remove any links(http/https) from the reviews text. \n",
    "    2. Remove all the punctuations or other signs other than numbers and letters(both small and capital)\n",
    "    3. As numbers do not contibute in classifying any review, the numbers will be replaced by 'd'. Later, useless words will be\n",
    "       by stopwords removal feature in count-vectorizer in sklearn. \n",
    "''' \n",
    "import re\n",
    "def text_process(text):\n",
    "    text = text.strip().lower()   \n",
    "    text = re.sub(r'\\bhttp.+?( |$)', ' ', text)\n",
    "    text = re.sub(r'[^a-zA-Z0-9 ]', ' ', text)\n",
    "    text = re.sub(r'[0-9]', 'd', text) \n",
    "    text = re.sub(r'\\s+', ' ', text) \n",
    "    return text"
   ]
  },
  {
   "cell_type": "code",
   "execution_count": 39,
   "metadata": {},
   "outputs": [],
   "source": [
    "# The function is applied to independent variable X, the function takes everyline and clean the text of reviews. \n",
    "X = [text_process(review) for review in X]"
   ]
  },
  {
   "cell_type": "code",
   "execution_count": 40,
   "metadata": {},
   "outputs": [],
   "source": [
    "# Train and Test sets are prepared with 10% of samples in the Test set and remaining in Training set. \n",
    "from sklearn.model_selection import train_test_split\n",
    "X_train, X_test, y_tr, y_tst = train_test_split(X, y, test_size=0.1)"
   ]
  },
  {
   "cell_type": "code",
   "execution_count": 41,
   "metadata": {},
   "outputs": [],
   "source": [
    "# X_train, X_test, y_train, y_test will be used for modelling. \n",
    "y_train = y_tr['review_sentiment']\n",
    "y_test = y_tst['review_sentiment']\n",
    "y_test_star = y_tst['stars'] # used to see actual star ratings distrubution identified as pos and neg. \n",
    "y_test_star = y_test_star.values\n"
   ]
  },
  {
   "cell_type": "code",
   "execution_count": 42,
   "metadata": {},
   "outputs": [],
   "source": [
    "'''Every machine learning model takes vectors to fit the model, therefore, countvectorizer followed by tf-idf is used to represent \n",
    "the reviews in the form of vectors. dumb_tokenizor is the function for tokenzing the reviews and given as a parameter \n",
    "to countvectorize'''\n",
    "\n",
    "def dumb_tokenizer(t):\n",
    "    return t.split()\n"
   ]
  },
  {
   "cell_type": "code",
   "execution_count": 43,
   "metadata": {},
   "outputs": [
    {
     "data": {
      "text/plain": [
       "(473550, 70201)"
      ]
     },
     "execution_count": 43,
     "metadata": {},
     "output_type": "execute_result"
    }
   ],
   "source": [
    "# Countvectorize training data\n",
    "from sklearn.feature_extraction.text import CountVectorizer\n",
    "count_vect = CountVectorizer(tokenizer=dumb_tokenizer, stop_words='english',max_df=0.9, min_df=3)\n",
    "X_train_counts = count_vect.fit_transform(X_train)\n",
    "X_train_counts.shape"
   ]
  },
  {
   "cell_type": "code",
   "execution_count": 44,
   "metadata": {},
   "outputs": [
    {
     "data": {
      "text/plain": [
       "(473550, 70201)"
      ]
     },
     "execution_count": 44,
     "metadata": {},
     "output_type": "execute_result"
    }
   ],
   "source": [
    "# Generate tfidf matrix of countvectorized data\n",
    "from sklearn.feature_extraction.text import TfidfTransformer\n",
    "tfidf_transformer = TfidfTransformer()\n",
    "X_train_tfidf = tfidf_transformer.fit_transform(X_train_counts)\n",
    "X_train_tfidf.shape\n"
   ]
  },
  {
   "cell_type": "code",
   "execution_count": 45,
   "metadata": {},
   "outputs": [
    {
     "data": {
      "text/plain": [
       "(52617, 70201)"
      ]
     },
     "execution_count": 45,
     "metadata": {},
     "output_type": "execute_result"
    }
   ],
   "source": [
    "# vectorized and tfidf of test data\n",
    "X_test_counts = count_vect.transform(X_test)\n",
    "X_test_tfidf = tfidf_transformer.transform(X_test_counts)\n",
    "X_test_tfidf.shape"
   ]
  },
  {
   "cell_type": "markdown",
   "metadata": {},
   "source": [
    "# </u> Results of Multinomial and Logistic Regression for count vectorized and tfidf models separately <u/> "
   ]
  },
  {
   "cell_type": "code",
   "execution_count": 46,
   "metadata": {},
   "outputs": [
    {
     "name": "stdout",
     "output_type": "stream",
     "text": [
      "Classification report with MNB using tf as term encoding\n",
      "\n",
      "             precision    recall  f1-score   support\n",
      "\n",
      "        neg       0.81      0.76      0.79     17890\n",
      "        pos       0.88      0.91      0.89     34727\n",
      "\n",
      "avg / total       0.86      0.86      0.86     52617\n",
      "\n",
      "[[13671  4219]\n",
      " [ 3263 31464]]\n",
      "Classification report with MNB using tf-idf as term encoding\n",
      "\n",
      "             precision    recall  f1-score   support\n",
      "\n",
      "        neg       0.89      0.65      0.75     17890\n",
      "        pos       0.84      0.96      0.90     34727\n",
      "\n",
      "avg / total       0.86      0.85      0.85     52617\n",
      "\n",
      "[[11607  6283]\n",
      " [ 1375 33352]]\n",
      "Classification report with LR using tf as term encoding\n",
      "\n",
      "             precision    recall  f1-score   support\n",
      "\n",
      "        neg       0.86      0.80      0.83     17890\n",
      "        pos       0.90      0.93      0.92     34727\n",
      "\n",
      "avg / total       0.89      0.89      0.89     52617\n",
      "\n",
      "[[14397  3493]\n",
      " [ 2338 32389]]\n",
      "Classification report with LR using tf-idf as term encoding\n",
      "\n",
      "             precision    recall  f1-score   support\n",
      "\n",
      "        neg       0.87      0.81      0.84     17890\n",
      "        pos       0.91      0.94      0.92     34727\n",
      "\n",
      "avg / total       0.89      0.90      0.89     52617\n",
      "\n",
      "[[14532  3358]\n",
      " [ 2145 32582]]\n"
     ]
    }
   ],
   "source": [
    "from sklearn.naive_bayes import BernoulliNB, MultinomialNB\n",
    "from sklearn.linear_model import LogisticRegression as lr\n",
    "from sklearn.metrics import confusion_matrix, classification_report\n",
    "\n",
    "clf = MultinomialNB()\n",
    "clf.fit(X_train_counts, y_train)\n",
    "predicted = clf.predict(X_test_counts)\n",
    "print('Classification report with MNB using tf as term encoding\\n')\n",
    "print(classification_report(y_test, predicted, target_names=['neg', 'pos']))\n",
    "print(confusion_matrix(y_test, predicted))\n",
    "\n",
    "clf.fit(X_train_tfidf, y_train)\n",
    "predicted = clf.predict(X_test_tfidf)\n",
    "print('Classification report with MNB using tf-idf as term encoding\\n')\n",
    "print(classification_report(y_test, predicted, target_names=['neg', 'pos']))\n",
    "print(confusion_matrix(y_test, predicted))\n",
    "\n",
    "\n",
    "clf = lr()\n",
    "clf.fit(X_train_counts, y_train)\n",
    "predicted = clf.predict(X_test_counts)\n",
    "print('Classification report with LR using tf as term encoding\\n')\n",
    "print(classification_report(y_test, predicted, target_names=['neg', 'pos']))\n",
    "print(confusion_matrix(y_test, predicted))\n",
    "\n",
    "clf.fit(X_train_tfidf, y_train)\n",
    "predicted = clf.predict(X_test_tfidf)\n",
    "print('Classification report with LR using tf-idf as term encoding\\n')\n",
    "print(classification_report(y_test, predicted, target_names=['neg', 'pos']))\n",
    "print(confusion_matrix(y_test, predicted))"
   ]
  },
  {
   "cell_type": "markdown",
   "metadata": {},
   "source": [
    "# </u> Distribution of star ratings corrrectly and incorrectly classified as pos or neg <u/> "
   ]
  },
  {
   "cell_type": "code",
   "execution_count": 47,
   "metadata": {},
   "outputs": [],
   "source": [
    "def classification_report_star_rating(predictions, star_ratings):\n",
    "    classified_as_positive = {'1':0, '2':0, '3':0, '4':0, '5':0}\n",
    "    classified_as_negative = {'1':0, '2':0, '3':0, '4':0, '5':0}\n",
    "    for i in range(len(predictions)):\n",
    "        if predictions[i] == 'pos':\n",
    "            classified_as_positive[str(star_ratings[i])] += 1\n",
    "        else:\n",
    "            classified_as_negative[str(star_ratings[i])] += 1\n",
    "    print(\"classified as positive:\", classified_as_positive)\n",
    "    print(\"classified as negative:\", classified_as_negative)"
   ]
  },
  {
   "cell_type": "code",
   "execution_count": 48,
   "metadata": {},
   "outputs": [
    {
     "name": "stdout",
     "output_type": "stream",
     "text": [
      "('classified as positive:', {'1': 321, '3': 2561, '2': 476, '5': 21805, '4': 10777})\n",
      "('classified as negative:', {'1': 7054, '3': 3599, '2': 3879, '5': 548, '4': 1597})\n"
     ]
    }
   ],
   "source": [
    "classification_report_star_rating(predicted, y_test_star)"
   ]
  },
  {
   "cell_type": "markdown",
   "metadata": {},
   "source": [
    "######  </u> Thus we can see that among 1,2,3 star ratings,  3 star ratings have the highest number(2561) which are misclassified as positive. 1-star and 2-star have a much smaller proportion. Similarly 4, 5 star ratings have a very small proportion misclassfied into negative as compared to the correctly classified. <u/>"
   ]
  },
  {
   "cell_type": "markdown",
   "metadata": {},
   "source": [
    "# </u> Adding dictionary of positive and negative as an additional predictor variable <u/>"
   ]
  },
  {
   "cell_type": "code",
   "execution_count": 49,
   "metadata": {},
   "outputs": [],
   "source": [
    "## Function for reading pos and neg list\n",
    "def read_dictionaries(pFile, nFile):\n",
    "    pos_words = set(text_process(line.strip()) for line in open(pFile))\n",
    "    neg_words = set(text_process(line.strip()) for line in open(nFile))\n",
    "    return pos_words, neg_words\n",
    "pos_words, neg_words = read_dictionaries('pos-words.txt', 'neg-words.txt')"
   ]
  },
  {
   "cell_type": "code",
   "execution_count": 50,
   "metadata": {},
   "outputs": [],
   "source": [
    "from scipy.sparse import coo_matrix, hstack\n",
    "def compute_dictionary_features(doc_list):\n",
    "    num_pos_words, num_neg_words = [], []\n",
    "    for doc in doc_list:\n",
    "        words = doc.split()\n",
    "        num_pos = 0\n",
    "        num_neg = 0\n",
    "        for w in words:\n",
    "            if w in pos_words:\n",
    "                num_pos += 1\n",
    "            if w in neg_words:\n",
    "                num_neg += 1\n",
    "        num_pos_words.append([num_pos])\n",
    "        num_neg_words.append([num_neg])\n",
    "    return num_pos_words, num_neg_words"
   ]
  },
  {
   "cell_type": "code",
   "execution_count": 51,
   "metadata": {},
   "outputs": [
    {
     "name": "stdout",
     "output_type": "stream",
     "text": [
      "(473550, 473550)\n"
     ]
    }
   ],
   "source": [
    "from scipy.sparse import coo_matrix, hstack\n",
    "num_pos_words, num_neg_words = compute_dictionary_features(X_train)\n",
    "print(len(num_pos_words), len(num_neg_words))"
   ]
  },
  {
   "cell_type": "code",
   "execution_count": 52,
   "metadata": {},
   "outputs": [
    {
     "data": {
      "text/plain": [
       "(473550, 70201)"
      ]
     },
     "execution_count": 52,
     "metadata": {},
     "output_type": "execute_result"
    }
   ],
   "source": [
    "# X_train all contains dictionary plus reviews both. \n",
    "import numpy as np\n",
    "X_train_all = hstack([X_train_tfidf, coo_matrix(np.array(num_pos_words)), coo_matrix(np.array(num_neg_words))])\n",
    "X_train_tfidf.shape\n"
   ]
  },
  {
   "cell_type": "code",
   "execution_count": 53,
   "metadata": {},
   "outputs": [
    {
     "data": {
      "text/plain": [
       "(473550, 70203)"
      ]
     },
     "execution_count": 53,
     "metadata": {},
     "output_type": "execute_result"
    }
   ],
   "source": [
    "X_train_all.shape "
   ]
  },
  {
   "cell_type": "code",
   "execution_count": 54,
   "metadata": {},
   "outputs": [
    {
     "name": "stdout",
     "output_type": "stream",
     "text": [
      "(52617, 52617)\n"
     ]
    }
   ],
   "source": [
    "##### Compute pos, neg word features for test set\n",
    "num_pos_words, num_neg_words = compute_dictionary_features(X_test)\n",
    "print(len(num_pos_words), len(num_neg_words))"
   ]
  },
  {
   "cell_type": "code",
   "execution_count": 55,
   "metadata": {},
   "outputs": [],
   "source": [
    "X_test_all = hstack([X_test_tfidf, coo_matrix(np.array(num_pos_words)), coo_matrix(np.array(num_neg_words))])"
   ]
  },
  {
   "cell_type": "code",
   "execution_count": 56,
   "metadata": {},
   "outputs": [
    {
     "name": "stdout",
     "output_type": "stream",
     "text": [
      "Classification report with LR using tf-idf as term encoding\n",
      "\n",
      "             precision    recall  f1-score   support\n",
      "\n",
      "        neg     0.8718    0.8117    0.8407     17890\n",
      "        pos     0.9063    0.9385    0.9221     34727\n",
      "\n",
      "avg / total     0.8946    0.8954    0.8945     52617\n",
      "\n",
      "[[14522  3368]\n",
      " [ 2135 32592]]\n"
     ]
    }
   ],
   "source": [
    "clf = lr()\n",
    "clf.fit(X_train_all, y_train)\n",
    "predicted = clf.predict(X_test_all)\n",
    "print('Classification report with LR using tf-idf as term encoding\\n')\n",
    "print(classification_report(y_test, predicted, target_names=['neg', 'pos'], digits=4))\n",
    "print(confusion_matrix(y_test, predicted))"
   ]
  },
  {
   "cell_type": "markdown",
   "metadata": {},
   "source": [
    "#### We can see that even after adding the dictionary, the results are almost the same. "
   ]
  },
  {
   "cell_type": "markdown",
   "metadata": {},
   "source": [
    "# </u> Cross Domain sentiment analysis for Yelp and Amazon. "
   ]
  },
  {
   "cell_type": "code",
   "execution_count": 57,
   "metadata": {},
   "outputs": [],
   "source": [
    "import io\n",
    "def read_data(filename):\n",
    "    labels, reviews_data = [], []    \n",
    "    with io.open(filename, encoding = 'utf-8') as f:\n",
    "        for l in f:\n",
    "            label, review = l.strip().split(\" \", 1)\n",
    "            if label == '__label__2':\n",
    "                label = 'pos'\n",
    "            elif label == '__label__1':\n",
    "                label = 'neg'\n",
    "            else:\n",
    "                print('error')\n",
    "                continue\n",
    "            labels.append(label)\n",
    "            reviews_data.append(review)        \n",
    "    return labels, reviews_data\n",
    "\n"
   ]
  },
  {
   "cell_type": "code",
   "execution_count": 58,
   "metadata": {},
   "outputs": [],
   "source": [
    "# labels, reviews_data = read_data('amazon_reviews_data.txt')\n",
    "amazon_reviews = pickle.load( open( \"sampled_amazon_reviews.p\", \"rb\" ))\n",
    "# labels, reviews_data = amazon_reviews"
   ]
  },
  {
   "cell_type": "code",
   "execution_count": 59,
   "metadata": {},
   "outputs": [
    {
     "data": {
      "text/html": [
       "<div>\n",
       "<style scoped>\n",
       "    .dataframe tbody tr th:only-of-type {\n",
       "        vertical-align: middle;\n",
       "    }\n",
       "\n",
       "    .dataframe tbody tr th {\n",
       "        vertical-align: top;\n",
       "    }\n",
       "\n",
       "    .dataframe thead th {\n",
       "        text-align: right;\n",
       "    }\n",
       "</style>\n",
       "<table border=\"1\" class=\"dataframe\">\n",
       "  <thead>\n",
       "    <tr style=\"text-align: right;\">\n",
       "      <th></th>\n",
       "      <th>labels</th>\n",
       "      <th>reviews</th>\n",
       "    </tr>\n",
       "  </thead>\n",
       "  <tbody>\n",
       "    <tr>\n",
       "      <th>2379043</th>\n",
       "      <td>pos</td>\n",
       "      <td>It's conceptually awesome, some shake that's c...</td>\n",
       "    </tr>\n",
       "    <tr>\n",
       "      <th>3708829</th>\n",
       "      <td>neg</td>\n",
       "      <td>Waste of money: Although I haven't actually re...</td>\n",
       "    </tr>\n",
       "    <tr>\n",
       "      <th>495682</th>\n",
       "      <td>pos</td>\n",
       "      <td>super pointy and sharp: I now own tweezer man ...</td>\n",
       "    </tr>\n",
       "    <tr>\n",
       "      <th>1996551</th>\n",
       "      <td>neg</td>\n",
       "      <td>Doesnt work.: This type of wax does not work f...</td>\n",
       "    </tr>\n",
       "    <tr>\n",
       "      <th>1988957</th>\n",
       "      <td>neg</td>\n",
       "      <td>No stars. Can I actually give minus stars?: Th...</td>\n",
       "    </tr>\n",
       "  </tbody>\n",
       "</table>\n",
       "</div>"
      ],
      "text/plain": [
       "        labels                                            reviews\n",
       "2379043    pos  It's conceptually awesome, some shake that's c...\n",
       "3708829    neg  Waste of money: Although I haven't actually re...\n",
       "495682     pos  super pointy and sharp: I now own tweezer man ...\n",
       "1996551    neg  Doesnt work.: This type of wax does not work f...\n",
       "1988957    neg  No stars. Can I actually give minus stars?: Th..."
      ]
     },
     "execution_count": 59,
     "metadata": {},
     "output_type": "execute_result"
    }
   ],
   "source": [
    "from collections import Counter\n",
    "# Counter(labels)\n",
    "amazon_reviews.head()"
   ]
  },
  {
   "cell_type": "code",
   "execution_count": 60,
   "metadata": {},
   "outputs": [
    {
     "data": {
      "text/html": [
       "<div>\n",
       "<style scoped>\n",
       "    .dataframe tbody tr th:only-of-type {\n",
       "        vertical-align: middle;\n",
       "    }\n",
       "\n",
       "    .dataframe tbody tr th {\n",
       "        vertical-align: top;\n",
       "    }\n",
       "\n",
       "    .dataframe thead th {\n",
       "        text-align: right;\n",
       "    }\n",
       "</style>\n",
       "<table border=\"1\" class=\"dataframe\">\n",
       "  <thead>\n",
       "    <tr style=\"text-align: right;\">\n",
       "      <th></th>\n",
       "      <th>review_sentiment</th>\n",
       "      <th>text</th>\n",
       "    </tr>\n",
       "  </thead>\n",
       "  <tbody>\n",
       "    <tr>\n",
       "      <th>2379043</th>\n",
       "      <td>pos</td>\n",
       "      <td>It's conceptually awesome, some shake that's c...</td>\n",
       "    </tr>\n",
       "    <tr>\n",
       "      <th>3708829</th>\n",
       "      <td>neg</td>\n",
       "      <td>Waste of money: Although I haven't actually re...</td>\n",
       "    </tr>\n",
       "    <tr>\n",
       "      <th>495682</th>\n",
       "      <td>pos</td>\n",
       "      <td>super pointy and sharp: I now own tweezer man ...</td>\n",
       "    </tr>\n",
       "    <tr>\n",
       "      <th>1996551</th>\n",
       "      <td>neg</td>\n",
       "      <td>Doesnt work.: This type of wax does not work f...</td>\n",
       "    </tr>\n",
       "    <tr>\n",
       "      <th>1988957</th>\n",
       "      <td>neg</td>\n",
       "      <td>No stars. Can I actually give minus stars?: Th...</td>\n",
       "    </tr>\n",
       "  </tbody>\n",
       "</table>\n",
       "</div>"
      ],
      "text/plain": [
       "        review_sentiment                                               text\n",
       "2379043              pos  It's conceptually awesome, some shake that's c...\n",
       "3708829              neg  Waste of money: Although I haven't actually re...\n",
       "495682               pos  super pointy and sharp: I now own tweezer man ...\n",
       "1996551              neg  Doesnt work.: This type of wax does not work f...\n",
       "1988957              neg  No stars. Can I actually give minus stars?: Th..."
      ]
     },
     "execution_count": 60,
     "metadata": {},
     "output_type": "execute_result"
    }
   ],
   "source": [
    "amazon_reviews.columns = ['review_sentiment', 'text']\n",
    "amazon_reviews.head()"
   ]
  },
  {
   "cell_type": "markdown",
   "metadata": {},
   "source": [
    "# Section 1: Cross learning: In this part, only Yelp dataset is used for testing"
   ]
  },
  {
   "cell_type": "markdown",
   "metadata": {},
   "source": [
    "## </u> Training on Amazon and testing on Yelp"
   ]
  },
  {
   "cell_type": "code",
   "execution_count": 61,
   "metadata": {},
   "outputs": [],
   "source": [
    "X_amazon = amazon_reviews['text']\n",
    "y_amazon = amazon_reviews['review_sentiment']"
   ]
  },
  {
   "cell_type": "code",
   "execution_count": 62,
   "metadata": {},
   "outputs": [],
   "source": [
    "## Applying preprocess functions on amazon reviews\n",
    "X_amazon = [text_process(text) for text in X_amazon]"
   ]
  },
  {
   "cell_type": "code",
   "execution_count": 63,
   "metadata": {},
   "outputs": [],
   "source": [
    "def dumb_tokenizer(t):\n",
    "    return t.split()"
   ]
  },
  {
   "cell_type": "code",
   "execution_count": 64,
   "metadata": {},
   "outputs": [
    {
     "data": {
      "text/plain": [
       "(400000, 77480)"
      ]
     },
     "execution_count": 64,
     "metadata": {},
     "output_type": "execute_result"
    }
   ],
   "source": [
    "# Countvectorize training data\n",
    "from sklearn.feature_extraction.text import CountVectorizer\n",
    "count_vect = CountVectorizer(tokenizer=dumb_tokenizer, stop_words='english',max_df=0.9, min_df=3)\n",
    "X_amazon_train_counts = count_vect.fit_transform(X_amazon)\n",
    "X_amazon_train_counts.shape\n",
    "from sklearn.feature_extraction.text import TfidfTransformer\n",
    "tfidf_transformer = TfidfTransformer()\n",
    "X_train_tfidf = tfidf_transformer.fit_transform(X_amazon_train_counts)\n",
    "X_train_tfidf.shape\n"
   ]
  },
  {
   "cell_type": "code",
   "execution_count": 66,
   "metadata": {},
   "outputs": [
    {
     "data": {
      "text/plain": [
       "(52617, 77480)"
      ]
     },
     "execution_count": 66,
     "metadata": {},
     "output_type": "execute_result"
    }
   ],
   "source": [
    "X_test_counts = count_vect.transform(X_test)\n",
    "X_test_tfidf = tfidf_transformer.transform(X_test_counts)\n",
    "X_test_tfidf.shape"
   ]
  },
  {
   "cell_type": "code",
   "execution_count": 67,
   "metadata": {},
   "outputs": [
    {
     "name": "stdout",
     "output_type": "stream",
     "text": [
      "Classification report with LR using tf-idf as term encoding\n",
      "\n",
      "             precision    recall  f1-score   support\n",
      "\n",
      "        neg       0.84      0.69      0.76     17890\n",
      "        pos       0.85      0.93      0.89     34727\n",
      "\n",
      "avg / total       0.85      0.85      0.85     52617\n",
      "\n",
      "[[12317  5573]\n",
      " [ 2290 32437]]\n"
     ]
    }
   ],
   "source": [
    "from sklearn.linear_model import LogisticRegression as lr\n",
    "from sklearn.metrics import confusion_matrix, classification_report\n",
    "clf = lr()\n",
    "\n",
    "clf.fit(X_train_tfidf, y_amazon)\n",
    "predicted = clf.predict(X_test_tfidf)\n",
    "print('Classification report with LR using tf-idf as term encoding\\n')\n",
    "print(classification_report(y_test, predicted, target_names=['neg', 'pos']))\n",
    "print(confusion_matrix(y_test, predicted))\n"
   ]
  },
  {
   "cell_type": "markdown",
   "metadata": {},
   "source": [
    "### </u> Training on Amazon and Yelp but testing on only Yelp"
   ]
  },
  {
   "cell_type": "code",
   "execution_count": 68,
   "metadata": {},
   "outputs": [
    {
     "data": {
      "text/html": [
       "<div>\n",
       "<style scoped>\n",
       "    .dataframe tbody tr th:only-of-type {\n",
       "        vertical-align: middle;\n",
       "    }\n",
       "\n",
       "    .dataframe tbody tr th {\n",
       "        vertical-align: top;\n",
       "    }\n",
       "\n",
       "    .dataframe thead th {\n",
       "        text-align: right;\n",
       "    }\n",
       "</style>\n",
       "<table border=\"1\" class=\"dataframe\">\n",
       "  <thead>\n",
       "    <tr style=\"text-align: right;\">\n",
       "      <th></th>\n",
       "      <th>review_sentiment</th>\n",
       "      <th>text</th>\n",
       "    </tr>\n",
       "  </thead>\n",
       "  <tbody>\n",
       "    <tr>\n",
       "      <th>2790655</th>\n",
       "      <td>pos</td>\n",
       "      <td>as an out of town visitor i was pleased with t...</td>\n",
       "    </tr>\n",
       "    <tr>\n",
       "      <th>2290469</th>\n",
       "      <td>pos</td>\n",
       "      <td>this is a great little juice place it has a cl...</td>\n",
       "    </tr>\n",
       "    <tr>\n",
       "      <th>1032349</th>\n",
       "      <td>pos</td>\n",
       "      <td>i ve been to hader s bar many time and can t s...</td>\n",
       "    </tr>\n",
       "    <tr>\n",
       "      <th>1713069</th>\n",
       "      <td>pos</td>\n",
       "      <td>third trip to to las vegas no question the mos...</td>\n",
       "    </tr>\n",
       "    <tr>\n",
       "      <th>3596487</th>\n",
       "      <td>neg</td>\n",
       "      <td>we dropped by this place by mistake really i w...</td>\n",
       "    </tr>\n",
       "  </tbody>\n",
       "</table>\n",
       "</div>"
      ],
      "text/plain": [
       "        review_sentiment                                               text\n",
       "2790655              pos  as an out of town visitor i was pleased with t...\n",
       "2290469              pos  this is a great little juice place it has a cl...\n",
       "1032349              pos  i ve been to hader s bar many time and can t s...\n",
       "1713069              pos  third trip to to las vegas no question the mos...\n",
       "3596487              neg  we dropped by this place by mistake really i w..."
      ]
     },
     "execution_count": 68,
     "metadata": {},
     "output_type": "execute_result"
    }
   ],
   "source": [
    "yelp_training_set = pd.DataFrame({'text' : X_train, 'review_sentiment': y_train})\n",
    "frames = [yelp_training_set, amazon_reviews]\n",
    "yelp_amazon = pd.concat(frames)\n",
    "yelp_amazon.head()"
   ]
  },
  {
   "cell_type": "code",
   "execution_count": 75,
   "metadata": {},
   "outputs": [],
   "source": [
    "# Dividing into X and y\n",
    "X_yelp_amazon = yelp_amazon['text']\n",
    "y_yelp_amazon = yelp_amazon['review_sentiment']"
   ]
  },
  {
   "cell_type": "code",
   "execution_count": 76,
   "metadata": {},
   "outputs": [],
   "source": [
    " X_yelp_amazon = [text_process(text) for text in X_yelp_amazon]"
   ]
  },
  {
   "cell_type": "code",
   "execution_count": 77,
   "metadata": {},
   "outputs": [],
   "source": [
    "X_train_counts = count_vect.fit_transform(X_yelp_amazon)\n",
    "X_train_tfidf = tfidf_transformer.fit_transform(X_train_counts)\n"
   ]
  },
  {
   "cell_type": "code",
   "execution_count": 78,
   "metadata": {},
   "outputs": [
    {
     "data": {
      "text/plain": [
       "(52617, 112144)"
      ]
     },
     "execution_count": 78,
     "metadata": {},
     "output_type": "execute_result"
    }
   ],
   "source": [
    "## Predict on the test set of yelp reviews testset\n",
    "X_test_counts = count_vect.transform(X_test)\n",
    "X_test_tfidf = tfidf_transformer.transform(X_test_counts)\n",
    "\n",
    "X_test_tfidf.shape"
   ]
  },
  {
   "cell_type": "code",
   "execution_count": 79,
   "metadata": {},
   "outputs": [
    {
     "name": "stdout",
     "output_type": "stream",
     "text": [
      "Classification report with LR using tf-idf as term encoding\n",
      "\n",
      "             precision    recall  f1-score   support\n",
      "\n",
      "        neg       0.86      0.81      0.84     17890\n",
      "        pos       0.91      0.93      0.92     34727\n",
      "\n",
      "avg / total       0.89      0.89      0.89     52617\n",
      "\n",
      "[[14549  3341]\n",
      " [ 2319 32408]]\n"
     ]
    }
   ],
   "source": [
    "from sklearn.linear_model import LogisticRegression as lr\n",
    "from sklearn.metrics import confusion_matrix, classification_report\n",
    "clf = lr()\n",
    "\n",
    "clf.fit(X_train_tfidf, y_yelp_amazon)\n",
    "predicted = clf.predict(X_test_tfidf)\n",
    "print('Classification report with LR using tf-idf as term encoding\\n')\n",
    "print(classification_report(y_test, predicted, target_names=['neg', 'pos']))\n",
    "print(confusion_matrix(y_test, predicted))"
   ]
  },
  {
   "cell_type": "markdown",
   "metadata": {},
   "source": [
    "#### We see that the accuracy increased because now we have trained on complete range of data(yelp+ amazon)"
   ]
  },
  {
   "cell_type": "markdown",
   "metadata": {},
   "source": [
    "## Section 2: Cross Sentiment Analysis - Now everytime Amazon data will be tested."
   ]
  },
  {
   "cell_type": "markdown",
   "metadata": {},
   "source": [
    "## Training on Amazon and Testing on Amazon"
   ]
  },
  {
   "cell_type": "code",
   "execution_count": 80,
   "metadata": {},
   "outputs": [],
   "source": [
    "X_amazon_revews = amazon_reviews['text']\n",
    "y_amazon_revews = amazon_reviews['review_sentiment']"
   ]
  },
  {
   "cell_type": "code",
   "execution_count": 81,
   "metadata": {},
   "outputs": [],
   "source": [
    "X_amazon_revews = [text_process(text) for text in X_amazon_revews]"
   ]
  },
  {
   "cell_type": "code",
   "execution_count": 82,
   "metadata": {},
   "outputs": [],
   "source": [
    "from sklearn.model_selection import train_test_split\n",
    "X_amaz_train, X_amaz_test, y_amaz_train, y_amaz_test = train_test_split(X_amazon_revews, y_amazon_revews, test_size=0.1)"
   ]
  },
  {
   "cell_type": "code",
   "execution_count": 83,
   "metadata": {},
   "outputs": [],
   "source": [
    "X_train_counts = count_vect.fit_transform(X_amaz_train)\n",
    "X_train_tfidf = tfidf_transformer.fit_transform(X_train_counts) "
   ]
  },
  {
   "cell_type": "code",
   "execution_count": 84,
   "metadata": {},
   "outputs": [
    {
     "data": {
      "text/plain": [
       "(40000, 73505)"
      ]
     },
     "execution_count": 84,
     "metadata": {},
     "output_type": "execute_result"
    }
   ],
   "source": [
    "X_test_counts = count_vect.transform(X_amaz_test)\n",
    "X_test_tfidf = tfidf_transformer.transform(X_test_counts)\n",
    "\n",
    "X_test_tfidf.shape"
   ]
  },
  {
   "cell_type": "code",
   "execution_count": 85,
   "metadata": {},
   "outputs": [
    {
     "name": "stdout",
     "output_type": "stream",
     "text": [
      "Classification report with LR using tf-idf as term encoding\n",
      "\n",
      "             precision    recall  f1-score   support\n",
      "\n",
      "        neg       0.90      0.89      0.89     20173\n",
      "        pos       0.89      0.90      0.89     19827\n",
      "\n",
      "avg / total       0.89      0.89      0.89     40000\n",
      "\n",
      "[[17887  2286]\n",
      " [ 2038 17789]]\n"
     ]
    }
   ],
   "source": [
    "from sklearn.linear_model import LogisticRegression as lr\n",
    "from sklearn.metrics import confusion_matrix, classification_report\n",
    "clf = lr()\n",
    "\n",
    "clf.fit(X_train_tfidf, y_amaz_train)\n",
    "predicted = clf.predict(X_test_tfidf)\n",
    "print('Classification report with LR using tf-idf as term encoding\\n')\n",
    "print(classification_report(y_amaz_test, predicted, target_names=['neg', 'pos']))\n",
    "print(confusion_matrix(y_amaz_test, predicted))"
   ]
  },
  {
   "cell_type": "markdown",
   "metadata": {},
   "source": [
    "## Training on Yelp only and testing on Amazon"
   ]
  },
  {
   "cell_type": "code",
   "execution_count": 86,
   "metadata": {},
   "outputs": [
    {
     "data": {
      "text/plain": [
       "(526167, 73809)"
      ]
     },
     "execution_count": 86,
     "metadata": {},
     "output_type": "execute_result"
    }
   ],
   "source": [
    "X_train_counts = count_vect.fit_transform(X)\n",
    "X_train_counts.shape\n",
    "X_train_tfidf = tfidf_transformer.fit_transform(X_train_counts)\n",
    "\n",
    "X_train_tfidf.shape"
   ]
  },
  {
   "cell_type": "code",
   "execution_count": 87,
   "metadata": {},
   "outputs": [
    {
     "data": {
      "text/plain": [
       "(40000, 73809)"
      ]
     },
     "execution_count": 87,
     "metadata": {},
     "output_type": "execute_result"
    }
   ],
   "source": [
    "X_test_counts = count_vect.transform(X_amaz_test)\n",
    "X_test_tfidf = tfidf_transformer.transform(X_test_counts)\n",
    "\n",
    "X_test_tfidf.shape"
   ]
  },
  {
   "cell_type": "code",
   "execution_count": 93,
   "metadata": {},
   "outputs": [
    {
     "name": "stdout",
     "output_type": "stream",
     "text": [
      "Classification report with LR using tf as term encoding\n",
      "\n",
      "             precision    recall  f1-score   support\n",
      "\n",
      "        neg       0.89      0.73      0.80     20173\n",
      "        pos       0.77      0.91      0.83     19827\n",
      "\n",
      "avg / total       0.83      0.82      0.82     40000\n",
      "\n",
      "[[14808  5365]\n",
      " [ 1861 17966]]\n"
     ]
    }
   ],
   "source": [
    "clf = lr()\n",
    "clf.fit(X_train_tfidf, y['review_sentiment'])\n",
    "predicted = clf.predict(X_test_tfidf)\n",
    "print('Classification report with LR using tf as term encoding\\n')\n",
    "print(classification_report(y_amaz_test, predicted, target_names=['neg', 'pos']))\n",
    "print(confusion_matrix(y_amaz_test, predicted))"
   ]
  },
  {
   "cell_type": "markdown",
   "metadata": {},
   "source": [
    "# Training on Yelp and Amazon but testing on Amazon"
   ]
  },
  {
   "cell_type": "code",
   "execution_count": 94,
   "metadata": {},
   "outputs": [],
   "source": [
    "X_yelp_amazon = yelp_amazon['text']\n",
    "y_yelp_amazon = yelp_amazon['review_sentiment']"
   ]
  },
  {
   "cell_type": "code",
   "execution_count": 95,
   "metadata": {},
   "outputs": [],
   "source": [
    "X_yelp_amazon = [text_process(text) for text in X_yelp_amazon]"
   ]
  },
  {
   "cell_type": "code",
   "execution_count": 96,
   "metadata": {},
   "outputs": [],
   "source": [
    "X_train_counts = count_vect.fit_transform(X_yelp_amazon)\n",
    "X_train_tfidf = tfidf_transformer.fit_transform(X_train_counts)"
   ]
  },
  {
   "cell_type": "code",
   "execution_count": 97,
   "metadata": {},
   "outputs": [
    {
     "data": {
      "text/plain": [
       "(40000, 112144)"
      ]
     },
     "execution_count": 97,
     "metadata": {},
     "output_type": "execute_result"
    }
   ],
   "source": [
    "X_test_counts = count_vect.transform(X_amaz_test)\n",
    "X_test_tfidf = tfidf_transformer.transform(X_test_counts)\n",
    "\n",
    "X_test_tfidf.shape"
   ]
  },
  {
   "cell_type": "code",
   "execution_count": 98,
   "metadata": {},
   "outputs": [
    {
     "name": "stdout",
     "output_type": "stream",
     "text": [
      "Classification report with LR using tf-idf as term encoding\n",
      "\n",
      "             precision    recall  f1-score   support\n",
      "\n",
      "        neg       0.91      0.90      0.90     20173\n",
      "        pos       0.90      0.91      0.90     19827\n",
      "\n",
      "avg / total       0.90      0.90      0.90     40000\n",
      "\n",
      "[[18087  2086]\n",
      " [ 1787 18040]]\n"
     ]
    }
   ],
   "source": [
    "clf = lr()\n",
    "\n",
    "clf.fit(X_train_tfidf, y_yelp_amazon)\n",
    "predicted = clf.predict(X_test_tfidf)\n",
    "print('Classification report with LR using tf-idf as term encoding\\n')\n",
    "print(classification_report(y_amaz_test, predicted, target_names=['neg', 'pos']))\n",
    "print(confusion_matrix(y_amaz_test, predicted))"
   ]
  },
  {
   "cell_type": "markdown",
   "metadata": {},
   "source": [
    "### We can though results are not symmetric in both the sections, as yelp contains mostly the reviews of restaurants and Amazon contains the reviews of products. But than also, the accuracy is more than 80%, this means learning can be transfered from one domain to another for modelling the data saving efforts and money. "
   ]
  },
  {
   "cell_type": "markdown",
   "metadata": {},
   "source": [
    "### Thank you for reading! "
   ]
  },
  {
   "cell_type": "code",
   "execution_count": null,
   "metadata": {},
   "outputs": [],
   "source": []
  }
 ],
 "metadata": {
  "kernelspec": {
   "display_name": "Python 2",
   "language": "python",
   "name": "python2"
  },
  "language_info": {
   "codemirror_mode": {
    "name": "ipython",
    "version": 2
   },
   "file_extension": ".py",
   "mimetype": "text/x-python",
   "name": "python",
   "nbconvert_exporter": "python",
   "pygments_lexer": "ipython2",
   "version": "2.7.14"
  }
 },
 "nbformat": 4,
 "nbformat_minor": 2
}
